{
  "nbformat": 4,
  "nbformat_minor": 0,
  "metadata": {
    "colab": {
      "provenance": [],
      "authorship_tag": "ABX9TyPLi3e0q/JBy+PumMKp+/QR",
      "include_colab_link": true
    },
    "kernelspec": {
      "name": "python3",
      "display_name": "Python 3"
    },
    "language_info": {
      "name": "python"
    }
  },
  "cells": [
    {
      "cell_type": "markdown",
      "metadata": {
        "id": "view-in-github",
        "colab_type": "text"
      },
      "source": [
        "<a href=\"https://colab.research.google.com/github/viva198/zadaniya/blob/main/untitled0.ipynb\" target=\"_parent\"><img src=\"https://colab.research.google.com/assets/colab-badge.svg\" alt=\"Open In Colab\"/></a>"
      ]
    },
    {
      "cell_type": "code",
      "source": [
        "import pandas as pd\n",
        "import matplotlib.pyplot as plt\n",
        "import seaborn as sns\n",
        "\n",
        "PATH_TO_FILE: str = '/content/heart.csv'\n",
        "df = pd.read_csv(PATH_TO_FILE)\n",
        "\n",
        "#df.head() #(ʘᗩʘ’) реально 5 первых строчек шок\n",
        "#df.info()\n",
        "\n",
        "#df.describe()\n",
        "#df.columns\n",
        "#df\n",
        "\n",
        "#for column in df.columns:\n",
        "    #print(f'{column}: {df[column].nunique()} уникальных значений')\n",
        "     # непрерывные AGE_50, SBP_50, DBP_50, WT_50, CHOL_50, SBP_62, DBP_62, CHOL_62, WT_62\n",
        "     # дискретные MD_50, HT_50, SES, CL_STATUS, MD_62, IHD_DX, DEATH\n",
        "\n",
        "#df.describe()\n",
        "   # Distributions\n",
        "   # AGE_50 средний возаст равен 46 годам, минимальный возраст-20, максимальный-69. широкий диапазон указывает на разнообразие в возрасте\n",
        "   # MD_50 среденее: 2.36, минимум 1 и максимум 4\n",
        "   # SBP_50 и DBP_50 средние значения: 124.7 и 83.38 соответственно, что является нормой давления, однако верхнее давление имеет дипазон от 88 до 210 что указывает на наличие лиц с высоким кровяным давлением\n",
        "   # 2-d distributions\n",
        "   # зависимость мед.оценки от  возраста линейная.чем больше возраст-тем ниже оценка(где 1 самая высокая)\n",
        "   # зависимость мед.оценки от верхнего давления так же линейная. чем выше показатель давления- тем ниже мед.оценка\n",
        "   # в зависимости верхнего от нижнего давления можно увидеть человека с низким артериальным давлением(давление 88 на 38) и одного с высоким артериальным давлением(210 на 140)\n",
        "   # зависимость роста от нижнего давления: чем выше рост тем выше давление\n",
        "   #Values\n",
        "   # минимальное значение- стандартное отклонение во всех таблицах, кроме медицинской оценки\n",
        "\n",
        "sns.histplot(df['AGE_50'], kde=True)\n",
        "plt.title('Распределение AGE_50')\n",
        "plt.xlabel('AGE_50')\n",
        "plt.ylabel('Частота')\n",
        "plt.show()\n",
        "#большая часть людей-люди от 42 до 58 меньше всего людей в группе от 20 до 26\n",
        "\n",
        "sns.countplot(x='MD_50', data=df)\n",
        "plt.title('Распределение MD_50')\n",
        "plt.xlabel('MD_50')\n",
        "plt.ylabel('Количество')\n",
        "plt.show()\n",
        "# наибольшее колличество мед.оценок - 3, минимальное - 4. если условно разделить 2 группы на тех у кого здоровье лучше и хуже. присвоив лучшей группе значения 1 и 2, хужшей 3 и 4, то чило людей в лучшей группе больше чем худшей примерно на 8\n",
        "\n",
        "sns.boxplot(x=df['SBP_50'])\n",
        "plt.title('Boxplot SBP_50')\n",
        "plt.xlabel('SBP_50')\n",
        "plt.show()\n",
        "# минимальное значение - 88, наибольшее - 160. размах равен 72. медиана равна 120. так же видно 6 выбросов\n",
        "\n",
        "# Корреляционная матрица\n",
        "correlation_matrix = df.corr()\n",
        "\n",
        "# Визуализация тепловой карты\n",
        "sns.heatmap(correlation_matrix, annot=True, cmap='coolwarm')\n",
        "plt.title('Корреляционная матрица')\n",
        "plt.show()\n",
        "# сильная корреляция у WT_50 и WT_62\n",
        "# слабая корреляция у CL_STATUS и SBP_50, CL_STATUS и DBP_50\n",
        "# почти не коррелируются DBP_62 и WT_50\n",
        "# CL_STATUS. я в любом случае не поняла что это"
      ],
      "metadata": {
        "id": "KiU6ohzh4wup"
      },
      "execution_count": null,
      "outputs": []
    }
  ]
}